{
 "cells": [
  {
   "cell_type": "markdown",
   "id": "b4448127-7bb3-4969-9457-fd4de83510d9",
   "metadata": {},
   "source": [
    "# Linear Regression \n",
    "\n",
    "Linear regression is a statistical method used to model the relationship between a dependent variable (often denoted as \"y\") and one or more independent variables (often denoted as \"x\"). The basic idea of linear regression is to find the straight line that best fits the data points in a scatter plot.\n",
    "\n",
    "The most common form of linear regression is simple linear regression, which models the relationship between two variables:\n",
    "\n",
    "$y = mx + b$\n",
    "\n",
    "where y is the dependent variable, x is the independent variable, m is the slope, and b is the intercept. \n",
    "\n",
    "Given a set of input data ($\\{x_i, y_i\\}$), the goal of linear regression is to find the values of m and b that best fit the data\n",
    "\n",
    "\n",
    "The values of m and b are chosen to minimize the \"sum of squared errors\" (SSE) $(\\sum (y - \\hat{y})^2)$.\n",
    "\n",
    "Taking the partial derivatives with respect to m and b, set them equal to 0, and solve for m and b, we get:\n",
    "\n",
    "m = sum((x - x_mean) * (y - y_mean)) / sum((x - x_mean)^2)   \n",
    "b =  y_mean - m * x_mean\n",
    "\n",
    "\n",
    "Multiple linear regression is a more general form of linear regression that models the relationship between multiple independent variables and one dependent variable. The formula for the best-fit hyperplane in multiple linear regression is:\n",
    "\n",
    "$y = w_0 + w_1.x_1 + w_2.x_2 + ... + w_n.x_n = X^T. W$\n",
    "\n"
   ]
  },
  {
   "cell_type": "markdown",
   "id": "811e1f95-5367-4092-bc60-312d2ebea6d7",
   "metadata": {},
   "source": [
    "## Algorithm 1: Gradient Descent"
   ]
  },
  {
   "cell_type": "code",
   "execution_count": 15,
   "id": "d338dee5-bafa-4e01-890a-37f0456cf36d",
   "metadata": {},
   "outputs": [],
   "source": [
    "# step 1: define learning rate, batch size\n",
    "# step 2: define weights, bias\n",
    "# step 3: iteration\n",
    "## for each batch, update gradient: dw = np.dot(X.T, y_pred - y)\n",
    "## update weight\n",
    "\n",
    "import numpy as np\n",
    "\n",
    "class LinearRegression:\n",
    "    def __init__(self, learning_rate, n_iters):\n",
    "        # 1\n",
    "        self.lr = learning_rate\n",
    "        self.num_itr = 10\n",
    "        self.weights = None\n",
    "        self.bias = None\n",
    "\n",
    "    def fit(self, X, y):\n",
    "        # 2\n",
    "        n_samples, n_features = X.shape\n",
    "\n",
    "        self.weights = np.zeros(n_features)\n",
    "        self.bias = 0\n",
    "\n",
    "        # 3\n",
    "        for _ in range(self.num_itr):\n",
    "            y_predicted = np.dot(X, self.weights) + self.bias\n",
    "\n",
    "            dw = 1 / n_samples * np.dot(X.T, (y_predicted - y))\n",
    "            db = 1 / n_samples * np.sum(y_predicted - y)\n",
    "\n",
    "            self.weights -= dw\n",
    "            self.bias -= db\n",
    "\n",
    "    def predict(self, X):\n",
    "        y_pred = np.dot(X, self.weights) + self.bias\n",
    "        return y_pred\n",
    "\n",
    "\n"
   ]
  },
  {
   "cell_type": "code",
   "execution_count": null,
   "id": "4768015a-4d55-4082-92ba-30ba0c8fa7f3",
   "metadata": {},
   "outputs": [],
   "source": []
  },
  {
   "cell_type": "code",
   "execution_count": 22,
   "id": "48308b84-2d0c-4839-ac61-5a8f0b159ae8",
   "metadata": {},
   "outputs": [
    {
     "name": "stdout",
     "output_type": "stream",
     "text": [
      "MSE: 76.44353290571607\n",
      "Accuracy: 0.9806518217040273\n"
     ]
    },
    {
     "data": {
      "image/png": "[encoded data removed]",
      "text/plain": [
       "<Figure size 800x600 with 1 Axes>"
      ]
     },
     "metadata": {},
     "output_type": "display_data"
    }
   ],
   "source": [
    "# Imports\n",
    "import matplotlib.pyplot as plt\n",
    "from sklearn.model_selection import train_test_split\n",
    "from sklearn import datasets\n",
    "\n",
    "def test():\n",
    "    # cal r2 score\n",
    "    def r2_score(y_true, y_pred):\n",
    "        corr_matrix = np.corrcoef(y_true, y_pred)\n",
    "        corr = corr_matrix[0, 1]\n",
    "        return corr ** 2\n",
    "\n",
    "    # calculate mean square error\n",
    "    def mean_squared_error(y_true, y_pred):\n",
    "        return np.mean((y_true - y_pred) ** 2)\n",
    "\n",
    "    # build datasets\n",
    "    X, y = datasets.make_regression(\n",
    "        n_samples=100, n_features=1, noise=10, random_state=4\n",
    "    )\n",
    "\n",
    "    X_train, X_test, y_train, y_test = train_test_split(\n",
    "        X, y, test_size=0.2, random_state=1234\n",
    "    )\n",
    "\n",
    "    # train and predict\n",
    "    regressor = LinearRegression(learning_rate=0.01, n_iters=10000)\n",
    "    regressor.fit(X_train, y_train)\n",
    "    predictions = regressor.predict(X_test)\n",
    "\n",
    "    mse = mean_squared_error(y_test, predictions)\n",
    "    print(\"MSE:\", mse)\n",
    "\n",
    "    accu = r2_score(y_test, predictions)\n",
    "    print(\"Accuracy:\", accu)\n",
    "\n",
    "    y_pred_line = regressor.predict(X)\n",
    "    cmap = plt.get_cmap(\"viridis\")\n",
    "    fig = plt.figure(figsize=(8, 6))\n",
    "    m1 = plt.scatter(X_train, y_train, color=cmap(0.9), s=10)\n",
    "    m2 = plt.scatter(X_test, y_test, color=cmap(0.5), s=10)\n",
    "    plt.plot(X, y_pred_line, color=\"black\", linewidth=2, label=\"Prediction\")\n",
    "    plt.show()\n",
    "\n",
    "\n",
    "test()"
   ]
  },
  {
   "cell_type": "code",
   "execution_count": null,
   "id": "9507b2bf-c014-49bc-bc24-271d91ef5616",
   "metadata": {},
   "outputs": [],
   "source": []
  }
 ],
 "metadata": {
  "kernelspec": {
   "display_name": "Python 3 (ipykernel)",
   "language": "python",
   "name": "python3"
  },
  "language_info": {
   "codemirror_mode": {
    "name": "ipython",
    "version": 3
   },
   "file_extension": ".py",
   "mimetype": "text/x-python",
   "name": "python",
   "nbconvert_exporter": "python",
   "pygments_lexer": "ipython3",
   "version": "3.9.6"
  }
 },
 "nbformat": 4,
 "nbformat_minor": 5
}
