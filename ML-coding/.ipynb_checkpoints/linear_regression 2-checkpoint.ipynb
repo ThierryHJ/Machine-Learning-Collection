{
 "cells": [
  {
   "cell_type": "code",
   "execution_count": 1,
   "metadata": {},
   "outputs": [],
   "source": [
    "from sklearn.datasets import load_iris\n",
    "from sklearn.linear_model import LinearRegression\n",
    "import pandas as pd\n",
    "import numpy as np\n",
    "import math"
   ]
  },
  {
   "cell_type": "code",
   "execution_count": 2,
   "metadata": {},
   "outputs": [],
   "source": [
    "iris = load_iris()\n",
    "iris_X = iris.data\n",
    "iris_Y = iris.target"
   ]
  },
  {
   "cell_type": "code",
   "execution_count": null,
   "metadata": {},
   "outputs": [],
   "source": []
  },
  {
   "cell_type": "code",
   "execution_count": null,
   "metadata": {},
   "outputs": [],
   "source": [
    "class MyLinearRegression:\n",
    "    def __init__(self, fit_intercept=False,learning_rate=0.001,n_iterations=1000\n",
    "                 ,closed_formed=False):\n",
    "        self.learning_rate = learning_rate\n",
    "        self.n_iterations = n_iterations\n",
    "        self.fit_intercept = fit_intercept\n",
    "        self.intercept_ = None\n",
    "        self.coef_ = None\n",
    "        \n",
    "        self.closed_form = closed_formed\n",
    "        \n",
    "    def initialize_weight(self, X):\n",
    "        n_features = X.shape[1]\n",
    "        limit = 1/math.sqrt(n_features)\n",
    "        weights = np.random.uniform(-limit,limit,(n_features,))\n",
    "        return weights\n",
    "    \n",
    "    def fit(self, X, Y):\n",
    "        if self.fit_intercept:\n",
    "            X = np.insert(iris_X, 0, 1, axis=1)\n",
    "        weight = self.initialize_weight(X)\n",
    "        \n",
    "        ########### Algebra Way #################\n",
    "        if self.closed_form:\n",
    "            self.coef_ = np.linalg.inv(X.T.dot(X)).dot(X.T).dot(Y)\n",
    "            \n",
    "        ########## Gradient Descent #############\n",
    "        else:\n",
    "            min_mse = float(\"inf\")\n",
    "            cur_mse = float(\"inf\")\n",
    "            n_samples = X.shape[0]\n",
    "            for i in range(self.n_iterations):\n",
    "                y_pred = X.dot(weight)\n",
    "                residual =  -(1/n_samples) * (Y-y_pred)\n",
    "                weight -= self.learning_rate*(residual.dot(X))\n",
    "\n",
    "                # Calculate l2 loss\n",
    "                mse = np.mean(0.5 * (Y - y_pred)**2)\n",
    "                if mse >cur_mse:\n",
    "                    break\n",
    "                cur_mse = mse\n",
    "        \n",
    "            self.coef_ = weight\n",
    "    \n",
    "    def predict(self, X):\n",
    "        if self.fit_intercept:\n",
    "            X = np.insert(iris_X, 0, 1, axis=1)\n",
    "        prediction = X.dot(self.coef_)"
   ]
  },
  {
   "cell_type": "code",
   "execution_count": null,
   "metadata": {},
   "outputs": [],
   "source": [
    "mylr = MyLinearRegression(fit_intercept=True,learning_rate=0.01,n_iterations=18000)\n",
    "mylr.fit(iris_X, iris_Y)\n",
    "print(mylr.coef_)\n",
    "#prediction_my = mylr.predict(iris_X)\n",
    "\n",
    "mylr2 = MyLinearRegression(fit_intercept=True,closed_formed=True)\n",
    "mylr2.fit(iris_X, iris_Y)\n",
    "print(mylr2.coef_)"
   ]
  },
  {
   "cell_type": "code",
   "execution_count": null,
   "metadata": {},
   "outputs": [],
   "source": []
  },
  {
   "cell_type": "code",
   "execution_count": null,
   "metadata": {},
   "outputs": [],
   "source": []
  },
  {
   "cell_type": "code",
   "execution_count": null,
   "metadata": {},
   "outputs": [],
   "source": []
  },
  {
   "cell_type": "code",
   "execution_count": 102,
   "metadata": {},
   "outputs": [],
   "source": [
    "##################### the Sklearn Version ################################\n",
    "lr = LinearRegression(fit_intercept=True)\n",
    "lr.fit(iris_X, iris_Y)\n",
    "prediction_sk = lr.predict(iris_X)"
   ]
  },
  {
   "cell_type": "code",
   "execution_count": 103,
   "metadata": {},
   "outputs": [
    {
     "data": {
      "text/plain": [
       "(array([-0.11190585, -0.04007949,  0.22864503,  0.60925205]),\n",
       " 0.186495247206249)"
      ]
     },
     "execution_count": 103,
     "metadata": {},
     "output_type": "execute_result"
    }
   ],
   "source": [
    "lr.coef_, lr.intercept_"
   ]
  },
  {
   "cell_type": "code",
   "execution_count": null,
   "metadata": {},
   "outputs": [],
   "source": []
  }
 ],
 "metadata": {
  "kernelspec": {
   "display_name": "Python 3",
   "language": "python",
   "name": "python3"
  },
  "language_info": {
   "codemirror_mode": {
    "name": "ipython",
    "version": 3
   },
   "file_extension": ".py",
   "mimetype": "text/x-python",
   "name": "python",
   "nbconvert_exporter": "python",
   "pygments_lexer": "ipython3",
   "version": "3.7.7"
  }
 },
 "nbformat": 4,
 "nbformat_minor": 2
}
