{
 "cells": [
  {
   "cell_type": "code",
   "execution_count": 1,
   "metadata": {},
   "outputs": [],
   "source": [
    "from sklearn.datasets import load_iris\n",
    "from sklearn.ensemble import RandomForestClassifier\n",
    "import pandas as pd\n",
    "import numpy as np\n",
    "import math\n",
    "from decision_tree import MyDecisionTreeClassifier"
   ]
  },
  {
   "cell_type": "code",
   "execution_count": 2,
   "metadata": {},
   "outputs": [],
   "source": [
    "### Load the data\n",
    "titanic = pd.read_csv('./data/titanic/train.csv')\n",
    "titanic_test = pd.read_csv('./data/titanic/test.csv')\n",
    "\n",
    "titanic_Y_df=titanic.loc[:, titanic.columns.isin(['Survived'])]\n",
    "titanic_X_df=titanic.loc[:, ~titanic.columns.isin(['Survived',\"Name\",\"Ticket\",\"Cabin\",\"PassengerId\",\"Embarked\"])]\n",
    "titanic_X_test_df=titanic_test.loc[:, ~titanic_test.columns.isin(['Survived',\"Name\",\"Ticket\",\"Cabin\",\n",
    "                                                                  \"PassengerId\",\"Embarked\"])]\n",
    "\n",
    "def one_hot_encoding(df, col):\n",
    "    new_col = pd.get_dummies(df[col], prefix=col)\n",
    "    df = pd.concat([df,new_col], axis=1).drop([col], axis=1)\n",
    "    return df\n",
    "\n",
    "def fill_na_mean(df, col):\n",
    "    df[col].fillna(df[col].mean(), inplace=True)\n",
    "\n",
    "titanic_X_df = one_hot_encoding(titanic_X_df,\"Sex\")\n",
    "titanic_X_df = one_hot_encoding(titanic_X_df,\"Pclass\")\n",
    "for col in titanic_X_df:\n",
    "    fill_na_mean(titanic_X_df, col)\n",
    "\n",
    "titanic_X_test_df = one_hot_encoding(titanic_X_test_df,\"Sex\")\n",
    "titanic_X_test_df = one_hot_encoding(titanic_X_test_df,\"Pclass\")\n",
    "for col in titanic_X_test_df:\n",
    "    fill_na_mean(titanic_X_test_df, col)\n",
    "    \n",
    "titanic_X=titanic_X_df.to_numpy()\n",
    "titanic_X_test = titanic_X_test_df.to_numpy()\n",
    "titanic_Y=titanic_Y_df.to_numpy().reshape(len(titanic_Y_df))"
   ]
  },
  {
   "cell_type": "code",
   "execution_count": 3,
   "metadata": {},
   "outputs": [],
   "source": [
    "from utilities import bootstrap\n",
    "\n",
    "class MyRandomForestClassifier:\n",
    "    def __init__(self, max_depth=5, min_samples_leaf=2, n_estimator=10, criterion=\"gini\",\n",
    "                 min_impurity=0.00001):\n",
    "        # Root node in dec. tree\n",
    "        self.forest = [] \n",
    "        # Minimum n of samples to justify split\n",
    "        self.min_samples_split = min_samples_leaf\n",
    "        # The minimum impurity to justify split\n",
    "        self.min_impurity = min_impurity\n",
    "        # The maximum depth to grow the tree to\n",
    "        self.max_depth = max_depth\n",
    "        # number of trees in the random forest\n",
    "        self.n_estimator = n_estimator\n",
    "        \n",
    "        self.max_features = None\n",
    "\n",
    "        \n",
    "    def fit(self, X, y):\n",
    "        n_features = X.shape[1]\n",
    "        self.max_features = int(math.sqrt(n_features))\n",
    "        \n",
    "        for i in range(self.n_estimator):\n",
    "            X_sub, y_sub = bootstrap(X,y)\n",
    "            col_index = np.random.choice(n_features, self.max_features, replace=True)\n",
    "            tree = MyDecisionTreeClassifier(max_depth=5, min_samples_split=2)\n",
    "            tree.fit(X_sub[:,col_index], y_sub)\n",
    "            tree.feature_idx = col_index\n",
    "            self.forest.append(tree)\n",
    "            \n",
    "    def predict(self, X):\n",
    "        forest_predictions = np.ones((X.shape[0],self.n_estimator))\n",
    "        for idx, tree in enumerate(self.forest):\n",
    "            predictions = tree.predict(X[:, tree.feature_idx])\n",
    "            forest_predictions[:, idx] = predictions\n",
    "            \n",
    "        vote_prediction = []\n",
    "        for row in forest_predictions:\n",
    "            vote = np.bincount(row.astype(\"int\")).argmax()\n",
    "            vote_prediction.append(vote)\n",
    "            \n",
    "        return np.array(vote_prediction)\n",
    "            "
   ]
  },
  {
   "cell_type": "code",
   "execution_count": 4,
   "metadata": {},
   "outputs": [],
   "source": [
    "my_rf_clf = MyRandomForestClassifier(max_depth=3, min_samples_leaf=2, n_estimator=100)\n",
    "my_rf_clf.fit(titanic_X, titanic_Y)\n",
    "my_prediction = my_rf_clf.predict(titanic_X_test)"
   ]
  },
  {
   "cell_type": "code",
   "execution_count": null,
   "metadata": {},
   "outputs": [],
   "source": []
  },
  {
   "cell_type": "code",
   "execution_count": 5,
   "metadata": {},
   "outputs": [],
   "source": [
    "###################### sklearn testing ####################################\n",
    "rf_clf = RandomForestClassifier(max_depth=3, min_samples_leaf=2, n_estimators=100)\n",
    "rf_clf.fit(titanic_X, titanic_Y)\n",
    "prediction = rf_clf.predict(titanic_X_test)"
   ]
  },
  {
   "cell_type": "code",
   "execution_count": 7,
   "metadata": {},
   "outputs": [
    {
     "data": {
      "text/plain": [
       "0.8732057416267942"
      ]
     },
     "execution_count": 7,
     "metadata": {},
     "output_type": "execute_result"
    }
   ],
   "source": [
    "sum([my_prediction[i]==prediction[i] for i in range(len(prediction))])/len(prediction)"
   ]
  },
  {
   "cell_type": "code",
   "execution_count": null,
   "metadata": {},
   "outputs": [],
   "source": []
  }
 ],
 "metadata": {
  "kernelspec": {
   "display_name": "Python 3",
   "language": "python",
   "name": "python3"
  },
  "language_info": {
   "codemirror_mode": {
    "name": "ipython",
    "version": 3
   },
   "file_extension": ".py",
   "mimetype": "text/x-python",
   "name": "python",
   "nbconvert_exporter": "python",
   "pygments_lexer": "ipython3",
   "version": "3.7.7"
  }
 },
 "nbformat": 4,
 "nbformat_minor": 2
}
