{
 "cells": [
  {
   "cell_type": "code",
   "execution_count": 4,
   "metadata": {},
   "outputs": [],
   "source": [
    "from scipy import stats\n",
    "import numpy as np \n",
    "import pandas as pd\n",
    "import math"
   ]
  },
  {
   "cell_type": "code",
   "execution_count": null,
   "metadata": {},
   "outputs": [],
   "source": []
  },
  {
   "cell_type": "markdown",
   "metadata": {},
   "source": [
    "one sample t-test"
   ]
  },
  {
   "cell_type": "code",
   "execution_count": 5,
   "metadata": {},
   "outputs": [],
   "source": [
    "N=30\n",
    "a = np.random.randn(N)+2"
   ]
  },
  {
   "cell_type": "code",
   "execution_count": 6,
   "metadata": {},
   "outputs": [
    {
     "data": {
      "text/plain": [
       "Ttest_1sampResult(statistic=-0.1550199600010982, pvalue=0.877879516831054)"
      ]
     },
     "execution_count": 6,
     "metadata": {},
     "output_type": "execute_result"
    }
   ],
   "source": [
    "stats.ttest_1samp(a, popmean=2)"
   ]
  },
  {
   "cell_type": "code",
   "execution_count": 7,
   "metadata": {},
   "outputs": [],
   "source": [
    "def My1sampTTest(sample, popmean, tail=2):\n",
    "    N = len(sample)\n",
    "    sample_mean = np.mean(sample)\n",
    "    sample_std = np.std(sample, ddof=1)\n",
    "    sample_se = sample_std/np.sqrt(N)\n",
    "    \n",
    "    t = (sample_mean - popmean)/sample_se\n",
    "    df = N - 1 # degrees of freedom\n",
    "    if tail == 1:\n",
    "        p = 1 - stats.t.cdf(abs(t), df=df) # one-sided test p-value\n",
    "    elif tail == 2:\n",
    "        p = 1 - stats.t.cdf(abs(t), df=df) # two-sided test p-value\n",
    "        p = 2*p\n",
    "    print(\"t:\", t)\n",
    "    print(\"p:\", p) # two-sided test p-value"
   ]
  },
  {
   "cell_type": "code",
   "execution_count": 8,
   "metadata": {},
   "outputs": [
    {
     "name": "stdout",
     "output_type": "stream",
     "text": [
      "t: -0.1550199600010982\n",
      "p: 0.8778795168310538\n"
     ]
    }
   ],
   "source": [
    "# null hypothesis: population mean is 2\n",
    "# p = 0.87; which means under null hypothesis, there is 87% probability you could obtain a t value that is at least as \n",
    "# extreme as the observed t value (so the observed t value is not large enough to show population mean \n",
    "# is different from 2). Therefore, we could not reject the null hypothesis.\n",
    "My1sampTTest(a, popmean=2)"
   ]
  },
  {
   "cell_type": "code",
   "execution_count": null,
   "metadata": {},
   "outputs": [],
   "source": []
  },
  {
   "cell_type": "markdown",
   "metadata": {},
   "source": [
    "two sample t-test"
   ]
  },
  {
   "cell_type": "code",
   "execution_count": 9,
   "metadata": {},
   "outputs": [],
   "source": [
    "b = np.random.randn(N)+2\n",
    "c = np.random.randn(N)+3"
   ]
  },
  {
   "cell_type": "code",
   "execution_count": 10,
   "metadata": {},
   "outputs": [
    {
     "data": {
      "text/plain": [
       "Ttest_indResult(statistic=-4.306047655531677, pvalue=6.489551717501184e-05)"
      ]
     },
     "execution_count": 10,
     "metadata": {},
     "output_type": "execute_result"
    }
   ],
   "source": [
    "stats.ttest_ind(b, c)"
   ]
  },
  {
   "cell_type": "code",
   "execution_count": 11,
   "metadata": {},
   "outputs": [
    {
     "data": {
      "text/plain": [
       "Ttest_indResult(statistic=-4.306047655531677, pvalue=6.88923265397696e-05)"
      ]
     },
     "execution_count": 11,
     "metadata": {},
     "output_type": "execute_result"
    }
   ],
   "source": [
    "stats.ttest_ind(b, c, equal_var=False)"
   ]
  },
  {
   "cell_type": "code",
   "execution_count": 18,
   "metadata": {},
   "outputs": [],
   "source": [
    "def My2SampleTTest(sample1, sample2, equal_var=True, tail=2):\n",
    "    N1= len(sample1)\n",
    "    N2= len(sample2)\n",
    "    \n",
    "    mean_diff = np.mean(sample1) - np.mean(sample2)\n",
    "    var_1 = np.var(sample1, ddof=1)\n",
    "    var_2 = np.var(sample2, ddof=1)\n",
    "    \n",
    "    ## equal variance assumption\n",
    "    if equal_var:\n",
    "        var_1 = np.var(sample1, ddof=1)\n",
    "        var_2 = np.var(sample2, ddof=1)\n",
    "        pooled_std = np.sqrt((var_1+var_2)/2)\n",
    "        se_diff = pooled_std*np.sqrt(2/N1)\n",
    "        t = mean_diff/se_diff\n",
    "        df = 2*(N - 1) # degrees of freedom\n",
    "    \n",
    "    ## unequal varaince assumption: Welch's test\n",
    "    else:\n",
    "        pooled_variance = var_1/N1 + var_2/N2\n",
    "        pooled_se = np.sqrt(pooled_variance)\n",
    "        t = mean_diff/pooled_se\n",
    "        df = (var_1/N1 + var_2/N2)**2 / ((var_1/N1)**2/(N1-1) + (var_2/N2)**2/(N2-1))\n",
    "\n",
    "    if tail == 1:\n",
    "        p = 1 - stats.t.cdf(abs(t), df=df) # one-sided test p-value\n",
    "    elif tail == 2:\n",
    "        p = 1 - stats.t.cdf(abs(t), df=df) # two-sided test p-value\n",
    "        p = 2*p\n",
    "    print(\"t:\", t)\n",
    "    print(\"p:\", p) # two-sided test p-value"
   ]
  },
  {
   "cell_type": "code",
   "execution_count": 19,
   "metadata": {},
   "outputs": [
    {
     "name": "stdout",
     "output_type": "stream",
     "text": [
      "t: -4.306047655531678\n",
      "p: 6.48955171751453e-05\n"
     ]
    }
   ],
   "source": [
    "My2SampleTTest(b, c)"
   ]
  },
  {
   "cell_type": "code",
   "execution_count": 20,
   "metadata": {},
   "outputs": [
    {
     "name": "stdout",
     "output_type": "stream",
     "text": [
      "t: -4.306047655531677\n",
      "p: 6.889232653972677e-05\n"
     ]
    }
   ],
   "source": [
    "My2SampleTTest(b, c, equal_var=False)"
   ]
  },
  {
   "cell_type": "code",
   "execution_count": null,
   "metadata": {},
   "outputs": [],
   "source": []
  },
  {
   "cell_type": "code",
   "execution_count": null,
   "metadata": {},
   "outputs": [],
   "source": []
  }
 ],
 "metadata": {
  "kernelspec": {
   "display_name": "Python 3",
   "language": "python",
   "name": "python3"
  },
  "language_info": {
   "codemirror_mode": {
    "name": "ipython",
    "version": 3
   },
   "file_extension": ".py",
   "mimetype": "text/x-python",
   "name": "python",
   "nbconvert_exporter": "python",
   "pygments_lexer": "ipython3",
   "version": "3.8.5"
  }
 },
 "nbformat": 4,
 "nbformat_minor": 2
}
