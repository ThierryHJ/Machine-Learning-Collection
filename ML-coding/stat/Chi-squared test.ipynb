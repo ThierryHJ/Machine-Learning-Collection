{
 "cells": [
  {
   "cell_type": "code",
   "execution_count": 93,
   "metadata": {},
   "outputs": [],
   "source": [
    "from scipy.stats import chi2, chi2_contingency\n",
    "import numpy as np\n",
    "import pandas as pd"
   ]
  },
  {
   "cell_type": "code",
   "execution_count": 65,
   "metadata": {},
   "outputs": [],
   "source": [
    "class DataGenerator:\n",
    "    def __init__(self, p1, p2):\n",
    "        self.p1 = p1\n",
    "        self.p2 = p2\n",
    "    \n",
    "    def next(self):\n",
    "        click1 = 1 if np.random.random() > self.p1 else 0\n",
    "        click2 = 1 if np.random.random() > self.p2 else 0\n",
    "        return click1, click2\n",
    "    \n",
    "    # build contingency table\n",
    "    def buildContingency(self, N1, N2=None, equal_size=True):\n",
    "        T = np.zeros((2,2)).astype(np.float32)\n",
    "        \n",
    "        if equal_size:\n",
    "            for i in range(N1):\n",
    "                c1, c2 = self.next()\n",
    "                T[0,c1] += 1\n",
    "                T[1,c2] += 1\n",
    "            return T\n",
    "        \n",
    "        elif not equal_size:\n",
    "            for i in range(N1):\n",
    "                c1 = 1 if np.random.random() > self.p1 else 0\n",
    "                T[0,c1] += 1\n",
    "            for i in range(N2):\n",
    "                c2 = 1 if np.random.random() > self.p2 else 0\n",
    "                T[1,c2] += 1\n",
    "            return T"
   ]
  },
  {
   "cell_type": "code",
   "execution_count": 66,
   "metadata": {},
   "outputs": [
    {
     "name": "stdout",
     "output_type": "stream",
     "text": [
      "[[ 4. 26.]\n",
      " [16. 14.]]\n"
     ]
    }
   ],
   "source": [
    "dg = DataGenerator(0.2, 0.5)\n",
    "t1 = dg.buildContingency(N1=30)\n",
    "print(t1)"
   ]
  },
  {
   "cell_type": "code",
   "execution_count": 67,
   "metadata": {},
   "outputs": [
    {
     "name": "stdout",
     "output_type": "stream",
     "text": [
      "[[ 1. 29.]\n",
      " [27. 23.]]\n"
     ]
    }
   ],
   "source": [
    "t2 = dg.buildContingency(30, 50, equal_size=False)\n",
    "print(t2)"
   ]
  },
  {
   "cell_type": "code",
   "execution_count": null,
   "metadata": {},
   "outputs": [],
   "source": []
  },
  {
   "cell_type": "code",
   "execution_count": 86,
   "metadata": {},
   "outputs": [
    {
     "name": "stdout",
     "output_type": "stream",
     "text": [
      "21.157509157509157 4.230404132173198e-06\n",
      "[[10.5 19.5]\n",
      " [17.5 32.5]]\n"
     ]
    }
   ],
   "source": [
    "chi2, p, dof, ex = chi2_contingency(t2, correction=False)\n",
    "print(chi2, p)\n",
    "print(ex)"
   ]
  },
  {
   "cell_type": "code",
   "execution_count": 96,
   "metadata": {},
   "outputs": [],
   "source": [
    "def MyChi2TestContingency(table):\n",
    "    expected_odd = [np.sum(table[:,i]) for i in range(table.shape[1])]\n",
    "    expected_odd = [expected_odd[i]/np.sum(expected_odd) for i in range(table.shape[1])]\n",
    "    \n",
    "    # table with expected value\n",
    "    expected_t = np.zeros((table.shape[0], table.shape[1]))\n",
    "    for row in range(expected_t.shape[0]):\n",
    "        expected_t[row] = np.sum(table[row])*np.array(expected_odd)\n",
    "    \n",
    "    # chi sqaure test statitics\n",
    "    def calChi2(expected, observed):\n",
    "        return (observed-expected)**2/expected\n",
    "        \n",
    "    chi2Func = np.vectorize(calChi2)\n",
    "    chi2_t = chi2Func(expected_t, table)\n",
    "    chi2_v = np.sum(chi2_t)\n",
    "    \n",
    "    # p-value\n",
    "    p = 1- chi2.cdf(chi2_v, df=1)\n",
    "\n",
    "    return chi2_v, p, expected_t"
   ]
  },
  {
   "cell_type": "code",
   "execution_count": 98,
   "metadata": {},
   "outputs": [
    {
     "name": "stdout",
     "output_type": "stream",
     "text": [
      "21.157509157509157 4.2304041322216435e-06\n",
      "[[10.5 19.5]\n",
      " [17.5 32.5]]\n"
     ]
    }
   ],
   "source": [
    "chi2_v, p, expected_t = MyChi2TestContingency(t2)\n",
    "print(chi2_v, p)\n",
    "print(expected_t)"
   ]
  },
  {
   "cell_type": "code",
   "execution_count": null,
   "metadata": {},
   "outputs": [],
   "source": []
  }
 ],
 "metadata": {
  "kernelspec": {
   "display_name": "Python 3",
   "language": "python",
   "name": "python3"
  },
  "language_info": {
   "codemirror_mode": {
    "name": "ipython",
    "version": 3
   },
   "file_extension": ".py",
   "mimetype": "text/x-python",
   "name": "python",
   "nbconvert_exporter": "python",
   "pygments_lexer": "ipython3",
   "version": "3.7.7"
  }
 },
 "nbformat": 4,
 "nbformat_minor": 2
}
