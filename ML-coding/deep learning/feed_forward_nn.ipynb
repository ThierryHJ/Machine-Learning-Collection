{
 "cells": [
  {
   "cell_type": "code",
   "execution_count": 1,
   "id": "0efa5f56-ea8e-49bb-8727-ca92cef1baa9",
   "metadata": {},
   "outputs": [],
   "source": [
    "import torch\n",
    "import torch.nn as nn\n"
   ]
  },
  {
   "cell_type": "code",
   "execution_count": 8,
   "id": "708fadd1-4fd4-4457-9863-40722ee04553",
   "metadata": {},
   "outputs": [
    {
     "ename": "TypeError",
     "evalue": "forward() missing 1 required positional argument: 'X'",
     "output_type": "error",
     "traceback": [
      "\u001b[0;31m---------------------------------------------------------------------------\u001b[0m",
      "\u001b[0;31mTypeError\u001b[0m                                 Traceback (most recent call last)",
      "Cell \u001b[0;32mIn[8], line 15\u001b[0m\n\u001b[1;32m     13\u001b[0m         \u001b[38;5;28;01mreturn\u001b[39;00m out\n\u001b[1;32m     14\u001b[0m nn1 \u001b[38;5;241m=\u001b[39m FeedForwardNetwork(input_size\u001b[38;5;241m=\u001b[39m\u001b[38;5;241m28\u001b[39m \u001b[38;5;241m*\u001b[39m \u001b[38;5;241m28\u001b[39m, hidden_size\u001b[38;5;241m=\u001b[39m\u001b[38;5;241m5\u001b[39m, n_classes\u001b[38;5;241m=\u001b[39m\u001b[38;5;241m3\u001b[39m)\n\u001b[0;32m---> 15\u001b[0m out \u001b[38;5;241m=\u001b[39m \u001b[43mnn1\u001b[49m\u001b[38;5;241;43m.\u001b[39;49m\u001b[43mforward\u001b[49m\u001b[43m(\u001b[49m\u001b[43m)\u001b[49m\n",
      "\u001b[0;31mTypeError\u001b[0m: forward() missing 1 required positional argument: 'X'"
     ]
    }
   ],
   "source": [
    "\n",
    "# a basic FFN with multiclass output\n",
    "class FeedForwardNetwork(nn.Module):\n",
    "    def __init__(self, input_size, hidden_size, n_classes):\n",
    "        super(FeedForwardNetwork, self).__init__()\n",
    "        self.layer_1 = nn.Linear(in_features=input_size, out_features=hidden_size)\n",
    "        self.relu = nn.ReLU()\n",
    "        self.layer_2 = nn.Linear(in_features=hidden_size, out_features=n_classes)\n",
    "\n",
    "    def forward(self, X):\n",
    "        out = self.layer_1(X)\n",
    "        out = self.relu(out)\n",
    "        out = self.layer_2(out)\n",
    "        return out\n",
    "\n",
    "nn1 = FeedForwardNetwork(input_size=28 * 28, hidden_size=5, n_classes=3)\n"
   ]
  },
  {
   "cell_type": "code",
   "execution_count": 12,
   "id": "940a34e0-1f26-4478-b33b-2b2a00a4f40f",
   "metadata": {},
   "outputs": [
    {
     "name": "stdout",
     "output_type": "stream",
     "text": [
      "torch.Size([3, 784])\n"
     ]
    }
   ],
   "source": [
    "sample_data = torch.randn((3, 28 * 28))\n",
    "print(sample_data.shape)"
   ]
  },
  {
   "cell_type": "code",
   "execution_count": 13,
   "id": "f491b538-a565-488a-ac4f-7e1d812dfc40",
   "metadata": {},
   "outputs": [
    {
     "name": "stdout",
     "output_type": "stream",
     "text": [
      "tensor([[ 0.3213, -0.1168, -0.4025],\n",
      "        [ 0.0760, -0.2362,  0.1130],\n",
      "        [ 0.2499, -0.0869, -0.3264]], grad_fn=<AddmmBackward0>)\n"
     ]
    }
   ],
   "source": [
    "out = nn1.forward(sample_data)\n",
    "print(out)"
   ]
  },
  {
   "cell_type": "code",
   "execution_count": null,
   "id": "2d982508-c0e7-462e-892f-81362380ae62",
   "metadata": {},
   "outputs": [],
   "source": []
  }
 ],
 "metadata": {
  "kernelspec": {
   "display_name": "Python 3 (ipykernel)",
   "language": "python",
   "name": "python3"
  },
  "language_info": {
   "codemirror_mode": {
    "name": "ipython",
    "version": 3
   },
   "file_extension": ".py",
   "mimetype": "text/x-python",
   "name": "python",
   "nbconvert_exporter": "python",
   "pygments_lexer": "ipython3",
   "version": "3.9.6"
  }
 },
 "nbformat": 4,
 "nbformat_minor": 5
}
