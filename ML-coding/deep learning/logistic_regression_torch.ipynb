{
 "cells": [
  {
   "cell_type": "code",
   "execution_count": 1,
   "id": "f2ce7eda-3841-40fd-ac31-bf26111079b8",
   "metadata": {},
   "outputs": [],
   "source": [
    "import torch\n",
    "import torch.nn as nn\n",
    "import numpy as np\n",
    "from sklearn import datasets\n",
    "from sklearn.preprocessing import StandardScaler\n",
    "from sklearn.model_selection import train_test_split\n",
    "\n"
   ]
  },
  {
   "cell_type": "code",
   "execution_count": 12,
   "id": "f49c2bfb-9c34-4aeb-a463-8f27beb8c071",
   "metadata": {},
   "outputs": [],
   "source": [
    "# read data as numpy\n",
    "bc = datasets.load_breast_cancer()\n",
    "X, y = bc.data, bc.target\n",
    "X_train, X_test, y_train, y_test = train_test_split(X, y, test_size=0.2, random_state=42)\n",
    "# normalize data\n",
    "scaler = StandardScaler()\n",
    "X_train = scaler.fit_transform(X_train)\n",
    "X_test = scaler.transform(X_test)\n",
    "\n",
    "# transform data format to torch tensor\n",
    "def transfrom_data(x):\n",
    "    x = torch.from_numpy(x.astype(np.float32))\n",
    "    return x\n",
    "\n",
    "X_train = transfrom_data(X_train)\n",
    "X_test = transfrom_data(X_test)\n",
    "y_train = transfrom_data(y_train)\n",
    "y_test = transfrom_data(y_test)\n",
    "\n",
    "n_samples, n_features = X_train.shape"
   ]
  },
  {
   "cell_type": "code",
   "execution_count": 18,
   "id": "e1aa9e10-f917-4586-a0bf-cf2b52579b43",
   "metadata": {},
   "outputs": [
    {
     "name": "stdout",
     "output_type": "stream",
     "text": [
      "0 0.6892776489257812\n",
      "10 0.5553321242332458\n",
      "20 0.47372159361839294\n",
      "30 0.4187549948692322\n",
      "40 0.37897899746894836\n",
      "50 0.3486774265766144\n",
      "60 0.324696809053421\n",
      "70 0.30515679717063904\n",
      "80 0.2888660132884979\n",
      "90 0.2750319242477417\n",
      "tensor(0.9737)\n"
     ]
    }
   ],
   "source": [
    "class LogisticRegression(nn.Module):\n",
    "    def __init__(self, n_input_features):\n",
    "        # initiate \n",
    "        super(LogisticRegression, self).__init__()\n",
    "        self.linear = nn.Linear(n_input_features, 1)\n",
    "        \n",
    "    def forward(self, X):\n",
    "        # forward\n",
    "        y_pred = torch.sigmoid(self.linear(X)).squeeze()\n",
    "        return y_pred\n",
    "model = LogisticRegression(n_features)\n",
    "\n",
    "# define lr, batch_size, num_iter\n",
    "lr = 0.01\n",
    "num_iter = 100\n",
    "\n",
    "# define optimizer\n",
    "criterion = nn.BCELoss()\n",
    "optimizer = torch.optim.SGD(model.parameters(), lr=lr)\n",
    "\n",
    "for i in range(num_iter):\n",
    "    # calculate loss\n",
    "    y_pred = model(X_train)\n",
    "    loss = criterion(y_pred, y_train)\n",
    "    \n",
    "    # clear gradient\n",
    "    optimizer.zero_grad()\n",
    "    \n",
    "    # update gradient\n",
    "    loss.backward()\n",
    "    \n",
    "    # update weights with optimizer\n",
    "    optimizer.step()\n",
    "\n",
    "    if i % 10 == 0: \n",
    "        print(i, loss.item())\n",
    "\n",
    "with torch.no_grad():\n",
    "    y_pred = model(X_test)\n",
    "    y_class = y_pred.round()\n",
    "    acc = y_class.eq(y_test).sum() / y_test.shape[0]\n",
    "    print(acc)"
   ]
  },
  {
   "cell_type": "code",
   "execution_count": null,
   "id": "efe6cbb2-7934-4294-bd68-6f69db7e05be",
   "metadata": {},
   "outputs": [],
   "source": []
  },
  {
   "cell_type": "code",
   "execution_count": null,
   "id": "15dc5d63-3a54-438a-827c-a007b4f49c5f",
   "metadata": {},
   "outputs": [],
   "source": []
  }
 ],
 "metadata": {
  "kernelspec": {
   "display_name": "Python 3 (ipykernel)",
   "language": "python",
   "name": "python3"
  },
  "language_info": {
   "codemirror_mode": {
    "name": "ipython",
    "version": 3
   },
   "file_extension": ".py",
   "mimetype": "text/x-python",
   "name": "python",
   "nbconvert_exporter": "python",
   "pygments_lexer": "ipython3",
   "version": "3.9.6"
  }
 },
 "nbformat": 4,
 "nbformat_minor": 5
}
