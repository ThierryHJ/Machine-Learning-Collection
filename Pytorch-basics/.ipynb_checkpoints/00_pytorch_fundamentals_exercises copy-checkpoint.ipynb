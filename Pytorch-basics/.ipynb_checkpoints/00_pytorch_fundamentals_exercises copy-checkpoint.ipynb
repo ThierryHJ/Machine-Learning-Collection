{
 "cells": [
  {
   "cell_type": "markdown",
   "metadata": {
    "id": "AzDBM_v4iMe7"
   },
   "source": [
    "# 00. PyTorch Fundamentals Exercises\n",
    "\n",
    "### 1. Documentation reading \n",
    "\n",
    "A big part of deep learning (and learning to code in general) is getting familiar with the documentation of a certain framework you're using. We'll be using the PyTorch documentation a lot throughout the rest of this course. So I'd recommend spending 10-minutes reading the following (it's okay if you don't get some things for now, the focus is not yet full understanding, it's awareness):\n",
    "  * The documentation on [`torch.Tensor`](https://pytorch.org/docs/stable/tensors.html#torch-tensor).\n",
    "  * The documentation on [`torch.cuda`](https://pytorch.org/docs/master/notes/cuda.html#cuda-semantics).\n",
    "\n"
   ]
  },
  {
   "cell_type": "code",
   "execution_count": 1,
   "metadata": {
    "id": "bGD0oD8Kizak"
   },
   "outputs": [],
   "source": [
    "# No code solution (reading)"
   ]
  },
  {
   "cell_type": "markdown",
   "metadata": {
    "id": "__iXqqz-ioUJ"
   },
   "source": [
    "### 2. Create a random tensor with shape `(7, 7)`.\n"
   ]
  },
  {
   "cell_type": "code",
   "execution_count": 12,
   "metadata": {
    "id": "6pUq9Dc8i2L7"
   },
   "outputs": [
    {
     "name": "stdout",
     "output_type": "stream",
     "text": [
      "True\n",
      "tensor([[0.9777, 0.0123, 0.3152, 0.5784, 0.2362, 0.4315, 0.2421],\n",
      "        [0.5370, 0.9208, 0.4689, 0.6157, 0.2583, 0.0829, 0.6384],\n",
      "        [0.4944, 0.1504, 0.3099, 0.0732, 0.1647, 0.9291, 0.9636],\n",
      "        [0.1722, 0.9089, 0.9556, 0.1695, 0.1532, 0.4383, 0.7965],\n",
      "        [0.4528, 0.0735, 0.7448, 0.7609, 0.5779, 0.6684, 0.8472],\n",
      "        [0.6803, 0.9706, 0.8304, 0.7367, 0.0358, 0.6974, 0.0403],\n",
      "        [0.8898, 0.3343, 0.3029, 0.3342, 0.5290, 0.2472, 0.7788]])\n"
     ]
    }
   ],
   "source": [
    "# Import torch\n",
    "import torch\n",
    "print(torch.backends.mps.is_available())\n",
    "\n",
    "# Create random tensor\n",
    "tensor_1 = torch.rand(size = [7, 7])\n",
    "print(tensor_1)"
   ]
  },
  {
   "cell_type": "markdown",
   "metadata": {
    "id": "9-XxvRLfiqkR"
   },
   "source": [
    "### 3. Perform a matrix multiplication on the tensor from 2 with another random tensor with shape `(1, 7)` (hint: you may have to transpose the second tensor)."
   ]
  },
  {
   "cell_type": "code",
   "execution_count": 9,
   "metadata": {
    "id": "NcLqR0Sbi_vT"
   },
   "outputs": [
    {
     "name": "stdout",
     "output_type": "stream",
     "text": [
      "tensor([[0.5142],\n",
      "        [1.5595],\n",
      "        [1.4666],\n",
      "        [1.1538],\n",
      "        [2.0078],\n",
      "        [1.7487],\n",
      "        [1.5248]])\n"
     ]
    }
   ],
   "source": [
    "# Create another random tensor\n",
    "tensor_2 = torch.rand(size = [1, 7])\n",
    "\n",
    "# Perform matrix multiplication \n",
    "tensor_3 = torch.matmul(tensor_1, tensor_2.reshape(7, 1))\n",
    "print(tensor_3)"
   ]
  },
  {
   "cell_type": "markdown",
   "metadata": {
    "id": "eiutdKUFiryU"
   },
   "source": [
    "### 4. Set the random seed to `0` and do 2 & 3 over again.\n",
    "\n",
    "The output should be:\n",
    "```\n",
    "(tensor([[1.8542],\n",
    "         [1.9611],\n",
    "         [2.2884],\n",
    "         [3.0481],\n",
    "         [1.7067],\n",
    "         [2.5290],\n",
    "         [1.7989]]), torch.Size([7, 1]))\n",
    "```"
   ]
  },
  {
   "cell_type": "code",
   "execution_count": 14,
   "metadata": {
    "id": "D-lOWI_1jRMm"
   },
   "outputs": [
    {
     "name": "stdout",
     "output_type": "stream",
     "text": [
      "tensor([[1.8542],\n",
      "        [1.9611],\n",
      "        [2.2884],\n",
      "        [3.0481],\n",
      "        [1.7067],\n",
      "        [2.5290],\n",
      "        [1.7989]])\n"
     ]
    }
   ],
   "source": [
    "# Set manual seed\n",
    "RANDOM_SEED = 0\n",
    "torch.manual_seed(seed=RANDOM_SEED)\n",
    "\n",
    "# Create two random tensors\n",
    "tensor_1 = torch.rand(size = [7, 7])\n",
    "tensor_2 = torch.rand(size = [1, 7])\n",
    "\n",
    "# Matrix multiply tensors\n",
    "tensor_3 = torch.matmul(tensor_1, tensor_2.reshape(7, 1))\n",
    "print(tensor_3)\n"
   ]
  },
  {
   "cell_type": "markdown",
   "metadata": {
    "id": "ezY6ks9Cis37"
   },
   "source": [
    "### 5. Speaking of random seeds, we saw how to set it with `torch.manual_seed()` but is there a GPU equivalent? (hint: you'll need to look into the documentation for `torch.cuda` for this one)\n",
    "  * If there is, set the GPU random seed to `1234`."
   ]
  },
  {
   "cell_type": "code",
   "execution_count": 5,
   "metadata": {
    "id": "_LKWcfSTjp00"
   },
   "outputs": [],
   "source": [
    "# Set random seed on the GPU\n"
   ]
  },
  {
   "cell_type": "markdown",
   "metadata": {
    "id": "Ir9qSaj6it4n"
   },
   "source": [
    "\n",
    "### 6. Create two random tensors of shape `(2, 3)` and send them both to the GPU (you'll need access to a GPU for this). Set `torch.manual_seed(1234)` when creating the tensors (this doesn't have to be the GPU random seed). The output should be something like:\n",
    "\n",
    "```\n",
    "Device: cuda\n",
    "(tensor([[0.0290, 0.4019, 0.2598],\n",
    "         [0.3666, 0.0583, 0.7006]], device='cuda:0'),\n",
    " tensor([[0.0518, 0.4681, 0.6738],\n",
    "         [0.3315, 0.7837, 0.5631]], device='cuda:0'))\n",
    "```"
   ]
  },
  {
   "cell_type": "code",
   "execution_count": 31,
   "metadata": {
    "id": "azXExiFZj5nm"
   },
   "outputs": [
    {
     "name": "stdout",
     "output_type": "stream",
     "text": [
      "True\n",
      "tensor([[0.0518, 0.4681, 0.6738],\n",
      "        [0.3315, 0.7837, 0.5631]], device='mps:0') mps:0\n"
     ]
    }
   ],
   "source": [
    "# Set random seed\n",
    "torch.manual_seed(1234)\n",
    "\n",
    "\n",
    "# Check for access to GPU\n",
    "print(torch.backends.mps.is_available())\n",
    "\n",
    "# Create two random tensors on GPU\n",
    "if torch.cuda.is_available():\n",
    "    device = \"cuda\" # Use NVIDIA GPU (if available)\n",
    "elif torch.backends.mps.is_available():\n",
    "    device = \"mps\" # Use Apple Silicon GPU (if available)\n",
    "else:\n",
    "    device = \"cpu\" # Default to CPU if no GPU is available\n",
    "\n",
    "tensor_1 = torch.rand(size=(2, 3)).to(device)\n",
    "tensor_2 = torch.rand(size=(2, 3)).to(device)\n",
    "\n",
    "print(tensor_2, tensor_2.device)"
   ]
  },
  {
   "cell_type": "markdown",
   "metadata": {
    "id": "5TlAxeiSiu1y"
   },
   "source": [
    "\n",
    "### 7. Perform a matrix multiplication on the tensors you created in 6 (again, you may have to adjust the shapes of one of the tensors).\n",
    "\n",
    "The output should look like:\n",
    "```\n",
    "(tensor([[0.3647, 0.4709],\n",
    "         [0.5184, 0.5617]], device='cuda:0'), torch.Size([2, 2]))\n",
    "```"
   ]
  },
  {
   "cell_type": "code",
   "execution_count": 32,
   "metadata": {
    "id": "fAeG7ox0lHEO"
   },
   "outputs": [
    {
     "data": {
      "text/plain": [
       "(tensor([[0.4759, 0.2931],\n",
       "         [0.6074, 0.5855]], device='mps:0'),\n",
       " device(type='mps', index=0))"
      ]
     },
     "execution_count": 32,
     "metadata": {},
     "output_type": "execute_result"
    }
   ],
   "source": [
    "# Perform matmul on tensor_A and tensor_B\n",
    "tensor_mul_gpu = torch.matmul(tensor_1, tensor_2.view(3, 2))\n",
    "tensor_mul_gpu, tensor_mul_gpu.device"
   ]
  },
  {
   "cell_type": "markdown",
   "metadata": {
    "id": "G7qfa5CSivwg"
   },
   "source": [
    "### 8. Find the maximum and minimum values of the output of 7."
   ]
  },
  {
   "cell_type": "code",
   "execution_count": 33,
   "metadata": {
    "id": "Fu8_3mZpllOd"
   },
   "outputs": [
    {
     "name": "stdout",
     "output_type": "stream",
     "text": [
      "tensor(0.6074, device='mps:0')\n",
      "tensor(0.2931, device='mps:0')\n"
     ]
    }
   ],
   "source": [
    "# Find max\n",
    "print(tensor_mul_gpu.max())\n",
    "\n",
    "# Find min\n",
    "print(tensor_mul_gpu.min())"
   ]
  },
  {
   "cell_type": "markdown",
   "metadata": {
    "id": "wrTj5FgNiw47"
   },
   "source": [
    "### 9. Find the maximum and minimum index values of the output of 7."
   ]
  },
  {
   "cell_type": "code",
   "execution_count": 34,
   "metadata": {
    "id": "CCEKt4K2lsfQ"
   },
   "outputs": [
    {
     "name": "stdout",
     "output_type": "stream",
     "text": [
      "tensor(2, device='mps:0')\n",
      "tensor(1, device='mps:0')\n"
     ]
    }
   ],
   "source": [
    "# Find arg max\n",
    "print(tensor_mul_gpu.argmax())\n",
    "\n",
    "# Find arg min\n",
    "print(tensor_mul_gpu.argmin())"
   ]
  },
  {
   "cell_type": "markdown",
   "metadata": {
    "id": "hmeybz4uixy7"
   },
   "source": [
    "\n",
    "### 10. Make a random tensor with shape `(1, 1, 1, 10)` and then create a new tensor with all the `1` dimensions removed to be left with a tensor of shape `(10)`. Set the seed to `7` when you create it and print out the first tensor and it's shape as well as the second tensor and it's shape.\n",
    "\n",
    "The output should look like:\n",
    "\n",
    "```\n",
    "tensor([[[[0.5349, 0.1988, 0.6592, 0.6569, 0.2328, 0.4251, 0.2071, 0.6297,\n",
    "           0.3653, 0.8513]]]]) torch.Size([1, 1, 1, 10])\n",
    "tensor([0.5349, 0.1988, 0.6592, 0.6569, 0.2328, 0.4251, 0.2071, 0.6297, 0.3653,\n",
    "        0.8513]) torch.Size([10])\n",
    "```"
   ]
  },
  {
   "cell_type": "code",
   "execution_count": 37,
   "metadata": {
    "id": "TQ9zbRzVl1jV"
   },
   "outputs": [
    {
     "name": "stdout",
     "output_type": "stream",
     "text": [
      "tensor([0.5349, 0.1988, 0.6592, 0.6569, 0.2328, 0.4251, 0.2071, 0.6297, 0.3653,\n",
      "        0.8513]) torch.Size([10])\n"
     ]
    }
   ],
   "source": [
    "# Set seed\n",
    "torch.manual_seed(7)\n",
    "\n",
    "# Create random tensor\n",
    "tensor_1 = torch.rand(size = (1, 1, 1, 10))\n",
    "\n",
    "# Remove single dimensions\n",
    "tensor_1 = tensor_1.reshape(10)\n",
    "\n",
    "# Print out tensors and their shapes\n",
    "print(tensor_1, tensor_1.shape)"
   ]
  },
  {
   "cell_type": "code",
   "execution_count": null,
   "metadata": {},
   "outputs": [],
   "source": []
  }
 ],
 "metadata": {
  "accelerator": "GPU",
  "colab": {
   "collapsed_sections": [],
   "name": "00_pytorch_fundamentals_exercises.ipynb",
   "provenance": []
  },
  "kernelspec": {
   "display_name": "Python 3 (ipykernel)",
   "language": "python",
   "name": "python3"
  },
  "language_info": {
   "codemirror_mode": {
    "name": "ipython",
    "version": 3
   },
   "file_extension": ".py",
   "mimetype": "text/x-python",
   "name": "python",
   "nbconvert_exporter": "python",
   "pygments_lexer": "ipython3",
   "version": "3.9.6"
  }
 },
 "nbformat": 4,
 "nbformat_minor": 4
}
