{
 "cells": [
  {
   "cell_type": "markdown",
   "id": "73d080ba-4880-458a-825a-42f698e2caa1",
   "metadata": {},
   "source": [
    "# Implementing Linear Regression with Gradient Descent\n",
    "\n",
    "## **Problem Statement**\n",
    "Linear regression is a statistical method used to model the relationship between a dependent variable \\( y \\) and one or more independent variables \\( x \\). The goal of linear regression is to find the best-fitting line that minimizes the **sum of squared errors (SSE)**. Instead of solving for \\( m \\) and \\( b \\) using closed-form solutions, implement linear regression using **gradient descent**.\n",
    "\n",
    "## **Task**\n",
    "Implement a `LinearRegression` class that:\n",
    "1. Initializes with a specified **learning rate** and **number of iterations**.\n",
    "2. Uses **gradient descent** to update weights and bias iteratively.\n",
    "3. Implements a `fit(X, y)` method to train the model.\n",
    "4. Implements a `predict(X)` method to make predictions.\n",
    "5. Evaluates performance using:\n",
    "   - **Mean Squared Error (MSE)**\n",
    "   - **R² Score (Coefficient of Determination)**.\n",
    "\n",
    "## **Constraints**\n",
    "- Use **NumPy** for matrix operations.\n",
    "- The model should handle both **training** and **testing** datasets.\n",
    "- Use the provided **test function** to verify the implementation.\n",
    "\n"
   ]
  },
  {
   "cell_type": "code",
   "execution_count": 14,
   "id": "10ec66f9-a042-4b76-a60f-83bc5315ea33",
   "metadata": {},
   "outputs": [],
   "source": [
    "# step 1: define learning rate, batch size\n",
    "# step 2: define weights, bias\n",
    "# step 3: iteration\n",
    "# y = w * x + b\n",
    "# dloss/dw = dloss/dy * dy/dw = np.dot(X.T, y_pred - y)\n",
    "## for each batch, update gradient: dw = np.dot(X.T, y_pred - y)\n",
    "## update weight\n",
    "import numpy as np\n",
    "\n",
    "class LinearRegression:\n",
    "    def __init__(self, learning_rate, n_iters):\n",
    "        self.learning_rate = learning_rate\n",
    "        self.n_iters = n_iters\n",
    "        self.weights = None\n",
    "        self.bias = None\n",
    "\n",
    "    def fit(self, X, y):\n",
    "        # define weights, bias\n",
    "        self.weights = np.zeros(X.shape[1])\n",
    "        self.bias = 0\n",
    "        \n",
    "        for i in range(self.n_iters):\n",
    "            # forward\n",
    "            y_pred = np.dot(X, self.weights) + self.bias\n",
    "\n",
    "            # backward: gradient\n",
    "            dw = np.mean(np.dot(X.T, (y_pred - y)))\n",
    "            db = np.mean(np.sum(y_pred - y))\n",
    "\n",
    "            # update parameters\n",
    "            self.weights -= self.learning_rate * dw\n",
    "            self.bias -= self.learning_rate * db\n",
    "\n",
    "    def predict(self, X):\n",
    "        return np.dot(X, self.weights) + self.bias\n",
    "\n",
    "    \n",
    "\n"
   ]
  },
  {
   "cell_type": "markdown",
   "id": "cea81f65-7da8-4861-ac82-e0e88ca63115",
   "metadata": {},
   "source": [
    "## **Example Usage**\n",
    "```python\n",
    "# Initialize and train model\n",
    "regressor = LinearRegression(learning_rate=0.01, n_iters=10000)\n",
    "regressor.fit(X_train, y_train)\n",
    "\n",
    "# Make predictions\n",
    "predictions = regressor.predict(X_test)\n",
    "\n",
    "# Evaluate performance\n",
    "mse = mean_squared_error(y_test, predictions)\n",
    "r2 = r2_score(y_test, predictions)"
   ]
  },
  {
   "cell_type": "code",
   "execution_count": 15,
   "id": "e9d0a03d-81b5-46cb-b619-40ef74056130",
   "metadata": {},
   "outputs": [
    {
     "name": "stdout",
     "output_type": "stream",
     "text": [
      "Mean Squared Error: 76.44353290571607\n",
      "R² Score: 0.9806518217040273\n"
     ]
    },
    {
     "data": {
      "image/png": "[encoded data removed]",
      "text/plain": [
       "<Figure size 800x600 with 1 Axes>"
      ]
     },
     "metadata": {},
     "output_type": "display_data"
    }
   ],
   "source": [
    "\n",
    "import matplotlib.pyplot as plt\n",
    "from sklearn.model_selection import train_test_split\n",
    "from sklearn import datasets\n",
    "\n",
    "# Define the R² score function\n",
    "def r2_score(y_true, y_pred):\n",
    "    corr_matrix = np.corrcoef(y_true, y_pred)\n",
    "    corr = corr_matrix[0, 1]\n",
    "    return corr ** 2\n",
    "\n",
    "# Define the Mean Squared Error function\n",
    "def mean_squared_error(y_true, y_pred):\n",
    "    return np.mean((y_true - y_pred) ** 2)\n",
    "\n",
    "# Generate synthetic regression data\n",
    "X, y = datasets.make_regression(n_samples=100, n_features=1, noise=10, random_state=4)\n",
    "\n",
    "# Split into training and test sets\n",
    "X_train, X_test, y_train, y_test = train_test_split(X, y, test_size=0.2, random_state=1234)\n",
    "\n",
    "\n",
    "# Initialize and train the model\n",
    "regressor = LinearRegression(learning_rate=0.01, n_iters=10000)\n",
    "regressor.fit(X_train, y_train)\n",
    "\n",
    "# Make predictions\n",
    "predictions = regressor.predict(X_test)\n",
    "\n",
    "# Evaluate the model\n",
    "mse = mean_squared_error(y_test, predictions)\n",
    "r2 = r2_score(y_test, predictions)\n",
    "\n",
    "print(f\"Mean Squared Error: {mse}\")\n",
    "print(f\"R² Score: {r2}\")\n",
    "\n",
    "# Visualize the results\n",
    "y_pred_line = regressor.predict(X)\n",
    "cmap = plt.get_cmap(\"viridis\")\n",
    "\n",
    "plt.figure(figsize=(8, 6))\n",
    "plt.scatter(X_train, y_train, color=cmap(0.9), s=10, label=\"Training Data\")\n",
    "plt.scatter(X_test, y_test, color=cmap(0.5), s=10, label=\"Test Data\")\n",
    "plt.plot(X, y_pred_line, color=\"black\", linewidth=2, label=\"Prediction\")\n",
    "plt.legend()\n",
    "plt.show()"
   ]
  },
  {
   "cell_type": "code",
   "execution_count": null,
   "id": "c7e69177-858b-4257-b618-7648d7c19a0d",
   "metadata": {},
   "outputs": [],
   "source": []
  }
 ],
 "metadata": {
  "kernelspec": {
   "display_name": "Python 3 (ipykernel)",
   "language": "python",
   "name": "python3"
  },
  "language_info": {
   "codemirror_mode": {
    "name": "ipython",
    "version": 3
   },
   "file_extension": ".py",
   "mimetype": "text/x-python",
   "name": "python",
   "nbconvert_exporter": "python",
   "pygments_lexer": "ipython3",
   "version": "3.9.6"
  }
 },
 "nbformat": 4,
 "nbformat_minor": 5
}
