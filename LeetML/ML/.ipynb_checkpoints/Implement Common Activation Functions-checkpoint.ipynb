{
 "cells": [
  {
   "cell_type": "markdown",
   "id": "b4313e1a-8346-4d7d-b323-4028f2b638b8",
   "metadata": {},
   "source": [
    "\n",
    "# Implement Common Activation Functions  \n",
    "\n",
    "## Task: Implement Common Activation Functions  \n",
    "Your task is to implement commonly used activation functions in deep learning. Activation functions introduce non-linearity to neural networks, allowing them to model complex patterns.  \n",
    "\n",
    "You need to write a function `activation(x, func)` that applies the specified activation function to an input array. The function should accept:  \n",
    "\n",
    "- `x`: A NumPy array representing the input values.  \n",
    "- `func`: A string specifying the activation function to use. It can be one of:  \n",
    "  - `\"relu\"` (Rectified Linear Unit)  \n",
    "  - `\"sigmoid\"`  \n",
    "  - `\"tanh\"`  \n",
    "  - `\"softmax\"`  \n",
    "\n",
    "Your function should return a NumPy array with the transformed values. If an invalid activation function is provided, return `None`.  \n",
    "\n",
    "## Example  \n",
    "### **Input:**  \n",
    "```python\n",
    "import numpy as np\n",
    "\n",
    "x = np.array([-1.0, 0.0, 1.0, 2.0])\n",
    "\n",
    "print(activation(x, \"relu\"))\n",
    "print(activation(x, \"sigmoid\"))\n",
    "print(activation(x, \"tanh\"))\n",
    "print(activation(x, \"softmax\"))\n",
    "```\n",
    "### **Output:**  \n",
    "```python\n",
    "# [0. 0. 1. 2.]  # ReLU\n",
    "# [0.2689 0.5 0.7311 0.8808]  # Sigmoid\n",
    "# [-0.7616 0.0 0.7616 0.9640]  # Tanh\n",
    "# [0.0321 0.0871 0.2369 0.6438]  # Softmax\n",
    "```\n",
    "\n",
    "## **Explanation:**  \n",
    "- **ReLU** replaces negative values with zero (`max(0, x)`).  \n",
    "- **Sigmoid** squashes values to the range (0,1).  \n",
    "- **Tanh** squashes values to the range (-1,1).  \n",
    "- **Softmax** converts values into probabilities that sum to 1.  \n",
    "```"
   ]
  },
  {
   "cell_type": "code",
   "execution_count": null,
   "id": "cdf7bef2-5a89-4278-976d-ce0f63991b51",
   "metadata": {},
   "outputs": [],
   "source": [
    "def sigmoid(x):\n",
    "    return 1 / (1 + np.exp(-x)\n",
    "\n",
    "def softmax(x):\n",
    "    # e ** x / sum(e ** x)\n",
    "    prob_sum = np.sum(np.exp(x))\n",
    "    return np.exp(x) / prob_sum\n",
    "\n",
    "def Relu(x):\n",
    "    return np.where(x < 0, 0, x)\n",
    "\n",
    "def Tanh(x):\n",
    "    # 2 / (1 + e ** -2x)\n",
    "    return 2 /  (1 + np.exp(2 * x)\n",
    "\n",
    "def activation(x, activation_function):\n",
    "    if function == 'sigmoid':\n",
    "        pass\n",
    "        "
   ]
  }
 ],
 "metadata": {
  "kernelspec": {
   "display_name": "Python 3 (ipykernel)",
   "language": "python",
   "name": "python3"
  },
  "language_info": {
   "codemirror_mode": {
    "name": "ipython",
    "version": 3
   },
   "file_extension": ".py",
   "mimetype": "text/x-python",
   "name": "python",
   "nbconvert_exporter": "python",
   "pygments_lexer": "ipython3",
   "version": "3.9.6"
  }
 },
 "nbformat": 4,
 "nbformat_minor": 5
}
