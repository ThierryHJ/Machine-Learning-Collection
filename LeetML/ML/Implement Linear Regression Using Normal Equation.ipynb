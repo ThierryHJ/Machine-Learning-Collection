{
 "cells": [
  {
   "cell_type": "markdown",
   "id": "b61051d3-5bc4-4697-b4a6-a7cf200cc731",
   "metadata": {},
   "source": [
    "## Problem: Implement Linear Regression Using Normal Equation\n",
    "\n",
    "### Problem Statement\n",
    "\n",
    "You are tasked with implementing a function to perform linear regression using the normal equation. The objective is to compute the coefficients of the regression model directly without iterative optimization.\n",
    "\n",
    "### Requirements\n",
    "Implement the `normal_equation` function that satisfies the following criteria:\n",
    "\n",
    "### Function Definition:\n",
    "- The function should take:\n",
    "  - `X`: A matrix (list of lists) representing the feature set.\n",
    "  - `y`: A vector (list) representing the target variable.\n",
    "- The function should return a list of regression coefficients rounded to four decimal places.\n",
    "\n",
    "💡 Hint\n",
    "- Use the normal equation formula: \\( \\theta = (X^T X)^{-1} X^T y \\) to solve for the coefficients.\n",
    "- Ensure that `X` includes a column of ones to account for the intercept term.\n",
    "- Use NumPy for matrix operations.\n",
    "- Handle cases where the matrix is singular by using `np.linalg.pinv` instead of `np.linalg.inv`.\n",
    "\n",
    "Example:\n",
    "```python\n",
    "Input:\n",
    "X = [[1, 1], [1, 2], [1, 3]]\n",
    "y = [1, 2, 3]\n",
    "Output:\n",
    "[0.0, 1.0]"
   ]
  },
  {
   "cell_type": "code",
   "execution_count": 3,
   "id": "517fe176-d419-44e5-94a4-ed4cd0fca920",
   "metadata": {},
   "outputs": [],
   "source": [
    "import numpy as np\n",
    "\n",
    "def normal_equation(X, y):\n",
    "    # Convert to NumPy arrays\n",
    "    X = np.array(X, dtype=np.float64)\n",
    "    y = np.array(y, dtype=np.float64)\n",
    "\n",
    "    # closed form solution\n",
    "    W = np.linalg.pinv(X.T.dot(X)).dot(X.T).dot(y)\n",
    "    \n",
    "    # Round the coefficients to four decimal places\n",
    "    return [round(val, 4) for val in W]"
   ]
  },
  {
   "cell_type": "code",
   "execution_count": 4,
   "id": "b929a4b2-9380-46e3-a0cc-e9ba0521ad66",
   "metadata": {},
   "outputs": [
    {
     "name": "stdout",
     "output_type": "stream",
     "text": [
      "[-0.0, 1.0]\n",
      "[-0.0, 0.0, 1.0]\n",
      "[0.0, 1.0]\n",
      "[0.5, 1.3571]\n",
      "[1.0, 2.0]\n"
     ]
    }
   ],
   "source": [
    "# Example usage\n",
    "X = [[1, 1], [1, 2], [1, 3]]\n",
    "y = [1, 2, 3]\n",
    "print(normal_equation(X, y))  # Output: [0.0, 1.0]\n",
    "\n",
    "# Additional test cases\n",
    "print(normal_equation([[1, 1, 1], [1, 2, 4], [1, 3, 9]], [1, 4, 9]))  # Output: [0.0, 0.0, 1.0]\n",
    "print(normal_equation([[1, -1], [1, -2], [1, -3]], [-1, -2, -3]))  # Output: [0.0, 1.0]\n",
    "print(normal_equation([[1, 1], [1, 2], [1, 4]], [2, 3, 6]))  # Output: [1.0, 1.25]\n",
    "print(normal_equation([[1, i] for i in range(10)], [2 * i + 1 for i in range(10)]))  # Output: [1.0, 2.0]"
   ]
  },
  {
   "cell_type": "code",
   "execution_count": null,
   "id": "9f1c15a1-5a8f-4852-bd50-0306f2707883",
   "metadata": {},
   "outputs": [],
   "source": []
  }
 ],
 "metadata": {
  "kernelspec": {
   "display_name": "Python 3 (ipykernel)",
   "language": "python",
   "name": "python3"
  },
  "language_info": {
   "codemirror_mode": {
    "name": "ipython",
    "version": 3
   },
   "file_extension": ".py",
   "mimetype": "text/x-python",
   "name": "python",
   "nbconvert_exporter": "python",
   "pygments_lexer": "ipython3",
   "version": "3.9.6"
  }
 },
 "nbformat": 4,
 "nbformat_minor": 5
}
